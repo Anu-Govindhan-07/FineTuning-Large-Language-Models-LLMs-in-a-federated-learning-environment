{
 "cells": [
  {
   "cell_type": "code",
   "execution_count": 1,
   "id": "106b25d9",
   "metadata": {},
   "outputs": [
    {
     "name": "stdout",
     "output_type": "stream",
     "text": [
      "Subset data saved to medical_dataset.json\n"
     ]
    }
   ],
   "source": [
    "from datasets import load_dataset\n",
    "import json\n",
    "\n",
    "# Load the dataset from Hugging Face\n",
    "dataset = load_dataset('medalpaca/medical_meadow_cord19')\n",
    "\n",
    "# Get the first 2000 rows\n",
    "subset_data = dataset['train'][:2000]  \n",
    "\n",
    "# Save the subset data to a JSON file locally\n",
    "output_file = 'medical_dataset.json'\n",
    "with open(output_file, 'w') as f:\n",
    "    json.dump(subset_data, f)\n",
    "\n",
    "print(f\"Subset data saved to {output_file}\")\n"
   ]
  },
  {
   "cell_type": "code",
   "execution_count": 2,
   "id": "3f56d1ad",
   "metadata": {},
   "outputs": [
    {
     "name": "stdout",
     "output_type": "stream",
     "text": [
      "C:\\Users\\nihal\n"
     ]
    }
   ],
   "source": [
    "import os\n",
    "print(os.getcwd())\n"
   ]
  },
  {
   "cell_type": "code",
   "execution_count": 8,
   "id": "6781d102",
   "metadata": {},
   "outputs": [
    {
     "name": "stdout",
     "output_type": "stream",
     "text": [
      "<class 'dict'>\n",
      "dict_keys(['output', 'input', 'instruction'])\n"
     ]
    }
   ],
   "source": [
    "import json\n",
    "\n",
    "# Load the JSON file\n",
    "input_file = 'medical_dataset.json'\n",
    "with open(input_file, 'r') as f:\n",
    "    subset_data = json.load(f)\n",
    "\n",
    "# Print the type of subset_data and its keys\n",
    "print(type(subset_data))\n",
    "print(subset_data.keys())\n"
   ]
  },
  {
   "cell_type": "code",
   "execution_count": 9,
   "id": "5d5a4c4b",
   "metadata": {},
   "outputs": [
    {
     "name": "stdout",
     "output_type": "stream",
     "text": [
      "Record 1: Clinical characteristics of 1544 Brazilians aged 60 years and over with laboratory evidence for SARS-CoV-2\n",
      "Record 2: Conservative management of early-onset severe preeclampsia: comparison between randomized and observational studies a systematic review\n",
      "Record 3: Update of transmission modelling and projections of gambiense human African trypanosomiasis in the Mandoul focus, Chad\n",
      "Record 4: Stem/progenitor cells in fetuses and newborns: overview of immunohistochemical markers.\n",
      "Record 5: Synthesis and characterization of a nano-formulation for long lasting sterilization effect\n"
     ]
    }
   ],
   "source": [
    "import json\n",
    "\n",
    "# Load the JSON file\n",
    "input_file = 'medical_dataset.json'\n",
    "with open(input_file, 'r') as f:\n",
    "    subset_data = json.load(f)\n",
    "\n",
    "# Access the 'output' key and print the first few rows of its data\n",
    "output_data = subset_data['output']\n",
    "for idx in range(min(5, len(output_data))):\n",
    "    print(f\"Record {idx+1}: {output_data[idx]}\")\n",
    "\n",
    "    "
   ]
  },
  {
   "cell_type": "code",
   "execution_count": 11,
   "id": "7e347937",
   "metadata": {},
   "outputs": [
    {
     "data": {
      "text/html": [
       "<div>\n",
       "<style scoped>\n",
       "    .dataframe tbody tr th:only-of-type {\n",
       "        vertical-align: middle;\n",
       "    }\n",
       "\n",
       "    .dataframe tbody tr th {\n",
       "        vertical-align: top;\n",
       "    }\n",
       "\n",
       "    .dataframe thead th {\n",
       "        text-align: right;\n",
       "    }\n",
       "</style>\n",
       "<table border=\"1\" class=\"dataframe\">\n",
       "  <thead>\n",
       "    <tr style=\"text-align: right;\">\n",
       "      <th></th>\n",
       "      <th>output</th>\n",
       "      <th>input</th>\n",
       "      <th>instruction</th>\n",
       "    </tr>\n",
       "  </thead>\n",
       "  <tbody>\n",
       "    <tr>\n",
       "      <th>0</th>\n",
       "      <td>Clinical characteristics of 1544 Brazilians ag...</td>\n",
       "      <td>INTRODUCTION: Infection with the new coronavir...</td>\n",
       "      <td>Please summerize the given abstract to a title</td>\n",
       "    </tr>\n",
       "    <tr>\n",
       "      <th>1</th>\n",
       "      <td>Conservative management of early-onset severe ...</td>\n",
       "      <td>OBJECTIVE: To compare maternal and perinatal o...</td>\n",
       "      <td>Please summerize the given abstract to a title</td>\n",
       "    </tr>\n",
       "    <tr>\n",
       "      <th>2</th>\n",
       "      <td>Update of transmission modelling and projectio...</td>\n",
       "      <td>Background:In recent years, an integrated prog...</td>\n",
       "      <td>Please summerize the given abstract to a title</td>\n",
       "    </tr>\n",
       "    <tr>\n",
       "      <th>3</th>\n",
       "      <td>Stem/progenitor cells in fetuses and newborns:...</td>\n",
       "      <td>Microanatomy of the vast majority of human org...</td>\n",
       "      <td>Please summerize the given abstract to a title</td>\n",
       "    </tr>\n",
       "    <tr>\n",
       "      <th>4</th>\n",
       "      <td>Synthesis and characterization of a nano-formu...</td>\n",
       "      <td>The current COVID-19 pandemic has increased th...</td>\n",
       "      <td>Please summerize the given abstract to a title</td>\n",
       "    </tr>\n",
       "    <tr>\n",
       "      <th>...</th>\n",
       "      <td>...</td>\n",
       "      <td>...</td>\n",
       "      <td>...</td>\n",
       "    </tr>\n",
       "    <tr>\n",
       "      <th>1995</th>\n",
       "      <td>Racial/Ethnic and Sex Differences in Emergency...</td>\n",
       "      <td>BACKGROUND Differences in activation of emerge...</td>\n",
       "      <td>Please summerize the given abstract to a title</td>\n",
       "    </tr>\n",
       "    <tr>\n",
       "      <th>1996</th>\n",
       "      <td>Fast and real-time electrical transistor assay...</td>\n",
       "      <td>Due to the SARS-CoV-2 pandemic renewed attenti...</td>\n",
       "      <td>Please summerize the given abstract to a title</td>\n",
       "    </tr>\n",
       "    <tr>\n",
       "      <th>1997</th>\n",
       "      <td>Barriers to hospital electronic public health ...</td>\n",
       "      <td>We sought to identify barriers to hospital rep...</td>\n",
       "      <td>Please summerize the given abstract to a title</td>\n",
       "    </tr>\n",
       "    <tr>\n",
       "      <th>1998</th>\n",
       "      <td>Lifestyle changes and their impact on glycemic...</td>\n",
       "      <td>AIMS/INTRODUCTION: This study aimed to reveal ...</td>\n",
       "      <td>Please summerize the given abstract to a title</td>\n",
       "    </tr>\n",
       "    <tr>\n",
       "      <th>1999</th>\n",
       "      <td>Job Crafting: A Challenge to Promote Decent Wo...</td>\n",
       "      <td>In recent years, the decent work agenda has ca...</td>\n",
       "      <td>Please summerize the given abstract to a title</td>\n",
       "    </tr>\n",
       "  </tbody>\n",
       "</table>\n",
       "<p>2000 rows × 3 columns</p>\n",
       "</div>"
      ],
      "text/plain": [
       "                                                 output  \\\n",
       "0     Clinical characteristics of 1544 Brazilians ag...   \n",
       "1     Conservative management of early-onset severe ...   \n",
       "2     Update of transmission modelling and projectio...   \n",
       "3     Stem/progenitor cells in fetuses and newborns:...   \n",
       "4     Synthesis and characterization of a nano-formu...   \n",
       "...                                                 ...   \n",
       "1995  Racial/Ethnic and Sex Differences in Emergency...   \n",
       "1996  Fast and real-time electrical transistor assay...   \n",
       "1997  Barriers to hospital electronic public health ...   \n",
       "1998  Lifestyle changes and their impact on glycemic...   \n",
       "1999  Job Crafting: A Challenge to Promote Decent Wo...   \n",
       "\n",
       "                                                  input  \\\n",
       "0     INTRODUCTION: Infection with the new coronavir...   \n",
       "1     OBJECTIVE: To compare maternal and perinatal o...   \n",
       "2     Background:In recent years, an integrated prog...   \n",
       "3     Microanatomy of the vast majority of human org...   \n",
       "4     The current COVID-19 pandemic has increased th...   \n",
       "...                                                 ...   \n",
       "1995  BACKGROUND Differences in activation of emerge...   \n",
       "1996  Due to the SARS-CoV-2 pandemic renewed attenti...   \n",
       "1997  We sought to identify barriers to hospital rep...   \n",
       "1998  AIMS/INTRODUCTION: This study aimed to reveal ...   \n",
       "1999  In recent years, the decent work agenda has ca...   \n",
       "\n",
       "                                         instruction  \n",
       "0     Please summerize the given abstract to a title  \n",
       "1     Please summerize the given abstract to a title  \n",
       "2     Please summerize the given abstract to a title  \n",
       "3     Please summerize the given abstract to a title  \n",
       "4     Please summerize the given abstract to a title  \n",
       "...                                              ...  \n",
       "1995  Please summerize the given abstract to a title  \n",
       "1996  Please summerize the given abstract to a title  \n",
       "1997  Please summerize the given abstract to a title  \n",
       "1998  Please summerize the given abstract to a title  \n",
       "1999  Please summerize the given abstract to a title  \n",
       "\n",
       "[2000 rows x 3 columns]"
      ]
     },
     "execution_count": 11,
     "metadata": {},
     "output_type": "execute_result"
    }
   ],
   "source": [
    "import pandas as pd\n",
    "import json\n",
    "\n",
    "# Load the JSON file\n",
    "input_file = 'medical_dataset.json'\n",
    "with open(input_file, 'r') as f:\n",
    "    subset_data = json.load(f)\n",
    "\n",
    "# Create a DataFrame from the data\n",
    "df = pd.DataFrame(subset_data)\n",
    "\n",
    "# Display the DataFrame\n",
    "df\n"
   ]
  },
  {
   "cell_type": "code",
   "execution_count": null,
   "id": "4e9ba8bb",
   "metadata": {},
   "outputs": [],
   "source": []
  }
 ],
 "metadata": {
  "kernelspec": {
   "display_name": "Python 3 (ipykernel)",
   "language": "python",
   "name": "python3"
  },
  "language_info": {
   "codemirror_mode": {
    "name": "ipython",
    "version": 3
   },
   "file_extension": ".py",
   "mimetype": "text/x-python",
   "name": "python",
   "nbconvert_exporter": "python",
   "pygments_lexer": "ipython3",
   "version": "3.9.13"
  }
 },
 "nbformat": 4,
 "nbformat_minor": 5
}
